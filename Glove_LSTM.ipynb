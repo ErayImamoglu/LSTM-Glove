{
  "nbformat": 4,
  "nbformat_minor": 0,
  "metadata": {
    "colab": {
      "provenance": [],
      "authorship_tag": "ABX9TyPP4xfo1FxTlkMI58xdZNIv",
      "include_colab_link": true
    },
    "kernelspec": {
      "name": "python3",
      "display_name": "Python 3"
    },
    "language_info": {
      "name": "python"
    }
  },
  "cells": [
    {
      "cell_type": "markdown",
      "metadata": {
        "id": "view-in-github",
        "colab_type": "text"
      },
      "source": [
        "<a href=\"https://colab.research.google.com/github/ErayImamoglu/LSTM-Glove/blob/main/Glove_LSTM.ipynb\" target=\"_parent\"><img src=\"https://colab.research.google.com/assets/colab-badge.svg\" alt=\"Open In Colab\"/></a>"
      ]
    },
    {
      "cell_type": "code",
      "execution_count": null,
      "metadata": {
        "colab": {
          "base_uri": "https://localhost:8080/",
          "height": 53
        },
        "id": "Acz7iRGBVmg6",
        "outputId": "954569d8-90cb-4ca5-c25d-61f7445b729d"
      },
      "outputs": [
        {
          "output_type": "execute_result",
          "data": {
            "text/plain": [
              "'Furthermore, the consultant will review Tender Documents in consultation of available specific reports and documents.'"
            ],
            "application/vnd.google.colaboratory.intrinsic+json": {
              "type": "string"
            }
          },
          "metadata": {},
          "execution_count": 1
        }
      ],
      "source": [
        "import pandas as pd\n",
        "import tensorflow as tf\n",
        "from tensorflow import keras\n",
        "from tensorflow.keras import layers\n",
        "import numpy as np\n",
        "import os\n",
        "import matplotlib.pyplot as plt\n",
        "import time\n",
        "\n",
        "df=pd.read_csv(\"/content/train_set_cost_related-_2_.csv\")\n",
        "\n",
        "# Get indices of rows with label 0 and label 1\n",
        "indices_0 = df[df['CostRelated'] == 0].index\n",
        "indices_1 = df[df['CostRelated'] == 1].index\n",
        "\n",
        "# Randomly sample the required number of indices with label 0\n",
        "random_indices_0 = np.random.choice(indices_0, len(indices_1), replace=False)\n",
        "\n",
        "# Combine the indices\n",
        "under_sample_indices = np.concatenate([indices_1, random_indices_0])\n",
        "\n",
        "# Create the undersampled DataFrame\n",
        "under_sampled_df = df.loc[under_sample_indices]\n",
        "\n",
        "# Shuffle the resulting DataFrame for good measure\n",
        "under_sampled_df = under_sampled_df.sample(frac=1).reset_index(drop=True)\n",
        "\n",
        "under_sampled_df[\"CostRelated\"] = under_sampled_df[\"CostRelated\"].astype(int)\n",
        "\n",
        "df=under_sampled_df\n",
        "\n",
        "df[\"Text\"][1]"
      ]
    },
    {
      "cell_type": "code",
      "source": [
        "#preprocessing\n",
        "import re\n",
        "import string\n",
        "\n",
        "def remove_punct(Text): #punctuationları kaldırmak için bir formül\n",
        "  translator=str.maketrans(\"\", \"\", string.punctuation)\n",
        "  return Text.translate(translator)\n",
        "\n",
        "df[\"Text\"]=df.Text.map(remove_punct)\n",
        "\n",
        "df[\"Text\"][1]"
      ],
      "metadata": {
        "colab": {
          "base_uri": "https://localhost:8080/",
          "height": 53
        },
        "id": "n6OLQbHxVuON",
        "outputId": "44e80026-86a4-45fb-98ec-758f82bff88c"
      },
      "execution_count": null,
      "outputs": [
        {
          "output_type": "execute_result",
          "data": {
            "text/plain": [
              "'Furthermore the consultant will review Tender Documents in consultation of available specific reports and documents'"
            ],
            "application/vnd.google.colaboratory.intrinsic+json": {
              "type": "string"
            }
          },
          "metadata": {},
          "execution_count": 2
        }
      ]
    },
    {
      "cell_type": "code",
      "source": [
        "#remove stopwords - not kelimesini atılmadan algoritma başarısını karşılaştır.\n",
        "#pip install ntlk\n",
        "import nltk\n",
        "nltk.download('stopwords')\n",
        "from nltk.corpus import stopwords\n",
        "stop=set(stopwords.words(\"english\"))\n",
        "\n",
        "def remove_stopwords(Text):\n",
        "  filtered_words=[word.lower() for word in Text.split() if word.lower() not in stop]\n",
        "  return \" \".join(filtered_words)\n",
        "\n",
        "df[\"Text\"]=df.Text.map(remove_stopwords) # bu olay çıkarıyor\n",
        "\n",
        "df[\"Text\"][1]"
      ],
      "metadata": {
        "colab": {
          "base_uri": "https://localhost:8080/",
          "height": 70
        },
        "id": "zxSdtJ12VwL0",
        "outputId": "adf3ba62-02f9-473a-9ef7-9e58cb3b1901"
      },
      "execution_count": null,
      "outputs": [
        {
          "output_type": "stream",
          "name": "stderr",
          "text": [
            "[nltk_data] Downloading package stopwords to /root/nltk_data...\n",
            "[nltk_data]   Unzipping corpora/stopwords.zip.\n"
          ]
        },
        {
          "output_type": "execute_result",
          "data": {
            "text/plain": [
              "'furthermore consultant review tender documents consultation available specific reports documents'"
            ],
            "application/vnd.google.colaboratory.intrinsic+json": {
              "type": "string"
            }
          },
          "metadata": {},
          "execution_count": 3
        }
      ]
    },
    {
      "cell_type": "code",
      "source": [
        "#split dataset into training and validation set\n",
        "train_size=int(df.shape[0]*0.8)\n",
        "\n",
        "train_df=df[:train_size]\n",
        "val_df=df[train_size:]\n",
        "\n",
        "#split text and labels\n",
        "train_sentences=train_df.Text.to_numpy()\n",
        "train_labels=train_df.CostRelated.to_numpy()\n",
        "val_sentences=val_df.Text.to_numpy()\n",
        "val_labels=val_df.CostRelated.to_numpy()\n",
        "\n",
        "print(len(train_sentences))\n",
        "print(len(val_sentences))"
      ],
      "metadata": {
        "colab": {
          "base_uri": "https://localhost:8080/"
        },
        "id": "r5VJ5SxlVxKc",
        "outputId": "decd7e14-9ded-4497-d748-c187ecab2a9b"
      },
      "execution_count": null,
      "outputs": [
        {
          "output_type": "stream",
          "name": "stdout",
          "text": [
            "294\n",
            "74\n"
          ]
        }
      ]
    },
    {
      "cell_type": "code",
      "source": [
        "from collections import Counter\n",
        "\n",
        "def counter_word(text_col):\n",
        "  count = Counter()\n",
        "  for text in text_col.values:\n",
        "    for word in text.split():\n",
        "      count[word] += 1\n",
        "  return count\n",
        "\n",
        "counter = counter_word(df.Text)\n",
        "num_unique_words = len(counter)\n",
        "\n",
        "print(num_unique_words)"
      ],
      "metadata": {
        "colab": {
          "base_uri": "https://localhost:8080/"
        },
        "id": "czSnbXoZVyCN",
        "outputId": "36fb3f4e-ab0f-41c9-d7ea-7934c630f373"
      },
      "execution_count": null,
      "outputs": [
        {
          "output_type": "stream",
          "name": "stdout",
          "text": [
            "1791\n"
          ]
        }
      ]
    },
    {
      "cell_type": "code",
      "source": [
        "!wget https://nlp.stanford.edu/data/glove.6B.zip"
      ],
      "metadata": {
        "id": "aikEvLuCZa9O"
      },
      "execution_count": null,
      "outputs": []
    },
    {
      "cell_type": "code",
      "source": [
        "!unzip glove.6B.zip"
      ],
      "metadata": {
        "id": "5HXJqNbgcPun"
      },
      "execution_count": null,
      "outputs": []
    },
    {
      "cell_type": "code",
      "source": [
        "import numpy as np\n",
        "\n",
        "from tensorflow.keras.preprocessing.text import Tokenizer\n",
        "from keras.layers import Dense\n",
        "\n",
        "# Tokenize only the training set\n",
        "tokenizer = Tokenizer(num_words=num_unique_words)\n",
        "tokenizer.fit_on_texts(train_sentences)  # fit only to training\n",
        "\n",
        "# Initialize the embedding matrix as zeros\n",
        "# Build embedding matrix\n",
        "vocab_size = len(tokenizer.word_index) + 1\n",
        "embedding_matrix = np.zeros((vocab_size, 100))  # Assuming embedding dimension is 100\n",
        "\n",
        "# Load GloVe embeddings\n",
        "glove_embeddings = {}\n",
        "with open(\"glove.6B.100d.txt\", 'r', encoding='utf-8') as f:\n",
        "    for line in f:\n",
        "        values = line.split()\n",
        "        word = values[0]\n",
        "        vector = np.asarray(values[1:], dtype='float32')\n",
        "        glove_embeddings[word] = vector\n",
        "\n",
        "# Build the embedding matrix\n",
        "for word, i in tokenizer.word_index.items():\n",
        "    embedding_vector = glove_embeddings.get(word)\n",
        "    if embedding_vector is not None:\n",
        "        # Words not found in the embedding index will be all zeros\n",
        "        embedding_matrix[i] = embedding_vector"
      ],
      "metadata": {
        "id": "nIyvxsI4Vz1c"
      },
      "execution_count": null,
      "outputs": []
    },
    {
      "cell_type": "code",
      "source": [
        "train_sequences=tokenizer.texts_to_sequences(train_sentences) #sentences to sequence-indices\n",
        "val_sequences=tokenizer.texts_to_sequences(val_sentences)     #sentences to sequence-indices\n",
        "\n",
        "print(train_sentences[1])\n",
        "print(train_sequences[1])"
      ],
      "metadata": {
        "colab": {
          "base_uri": "https://localhost:8080/"
        },
        "id": "GJi4mcI6V5KM",
        "outputId": "cc2b8a04-6fed-40d4-d3a9-d30effcec93f"
      },
      "execution_count": null,
      "outputs": [
        {
          "output_type": "stream",
          "name": "stdout",
          "text": [
            "furthermore consultant review tender documents consultation available specific reports documents\n",
            "[684, 1, 22, 430, 31, 685, 312, 431, 62, 31]\n"
          ]
        }
      ]
    },
    {
      "cell_type": "code",
      "source": [
        "#pad the sequences to have the same length\n",
        "from tensorflow.keras.preprocessing.sequence import pad_sequences\n",
        "\n",
        "#Max number of words in a sequence\n",
        "max_length =32\n",
        "\n",
        "train_padded=pad_sequences(train_sequences,maxlen=max_length,padding=\"post\",truncating=\"post\")\n",
        "val_padded=pad_sequences(val_sequences,maxlen=max_length,padding=\"post\",truncating=\"post\")\n",
        "\n",
        "print(train_padded[1])"
      ],
      "metadata": {
        "colab": {
          "base_uri": "https://localhost:8080/"
        },
        "id": "0E1EAu3CdLt3",
        "outputId": "901adc06-91e0-41a2-b401-2fa89e05e762"
      },
      "execution_count": null,
      "outputs": [
        {
          "output_type": "stream",
          "name": "stdout",
          "text": [
            "[684   1  22 430  31 685 312 431  62  31   0   0   0   0   0   0   0   0\n",
            "   0   0   0   0   0   0   0   0   0   0   0   0   0   0]\n"
          ]
        }
      ]
    },
    {
      "cell_type": "code",
      "source": [
        "#check reversing the indices\n",
        "#flip (key, value)\n",
        "reverse_word_index = dict([(idx, word) for (word, idx) in tokenizer.word_index.items()])\n",
        "\n",
        "def decode(sequence):\n",
        "  return \" \".join([reverse_word_index.get(idx, \"?\") for idx in sequence])\n",
        "\n",
        "print(reverse_word_index)"
      ],
      "metadata": {
        "colab": {
          "base_uri": "https://localhost:8080/"
        },
        "id": "HSHsjI-CdOpP",
        "outputId": "628a8718-c626-41ef-a233-3c6465862c64"
      },
      "execution_count": null,
      "outputs": [
        {
          "output_type": "stream",
          "name": "stdout",
          "text": [
            "{1: 'consultant', 2: 'shall', 3: 'contract', 4: 'works', 5: 'staff', 6: 'design', 7: 'contractor', 8: 'provide', 9: 'office', 10: 'site', 11: 'client', 12: 'supervision', 13: 'project', 14: 'services', 15: 'construction', 16: 'including', 17: 'equipment', 18: 'provided', 19: 'costs', 20: 'required', 21: 'ensure', 22: 'review', 23: 'experts', 24: 'necessary', 25: 'support', 26: 'insurance', 27: 'engineer', 28: 'period', 29: 'local', 30: 'relevant', 31: 'documents', 32: 'liability', 33: 'months', 34: 'must', 35: 'completion', 36: 'etc', 37: 'vehicles', 38: 'accommodation', 39: 'terms', 40: 'implementation', 41: 'cost', 42: 'may', 43: 'consultant’s', 44: 'employer', 45: 'assignment', 46: 'road', 47: 'accordance', 48: 'payment', 49: 'work', 50: 'provision', 51: 'requirements', 52: 'part', 53: 'conditions', 54: 'facilities', 55: 'defects', 56: 'technical', 57: 'report', 58: 'included', 59: 'professional', 60: 'related', 61: 'within', 62: 'reports', 63: 'appropriate', 64: 'duration', 65: 'key', 66: 'materials', 67: 'also', 68: 'leave', 69: 'taxes', 70: 'survey', 71: 'detailed', 72: 'proposed', 73: 'drawings', 74: 'include', 75: 'civil', 76: 'team', 77: 'remuneration', 78: 'contractors', 79: 'authority', 80: 'engineering', 81: 'contracts', 82: 'country', 83: 'use', 84: 'time', 85: 'duties', 86: 'reference', 87: 'laboratory', 88: 'environmental', 89: 'meetings', 90: 'days', 91: 'engineers', 92: 'order', 93: 'allowances', 94: 'section', 95: 'final', 96: 'maintenance', 97: 'respect', 98: 'client’s', 99: 'well', 100: 'travel', 101: 'management', 102: 'performance', 103: 'social', 104: 'following', 105: 'transport', 106: 'prepare', 107: 'safety', 108: 'pay', 109: 'roads', 110: 'consultants', 111: 'contractor’s', 112: 'coverage', 113: 'turkey', 114: 'international', 115: 'per', 116: 'activities', 117: 'fully', 118: 'equipped', 119: 'expert', 120: 'access', 121: 'backstopping', 122: '1', 123: 'rates', 124: 'andor', 125: 'approval', 126: 'phase', 127: 'standards', 128: 'consulting', 129: 'responsible', 130: 'fees', 131: 'carry', 132: 'designs', 133: 'service', 134: 'supply', 135: 'applicable', 136: 'law', 137: 'minimum', 138: 'amount', 139: 'control', 140: 'general', 141: 'communication', 142: 'two', 143: 'personnel', 144: 'adequate', 145: 'expected', 146: 'maintained', 147: 'third', 148: 'vehicle', 149: 'specifications', 150: 'progress', 151: 'furniture', 152: 'basis', 153: 'end', 154: 'cover', 155: 'condition', 156: 'years', 157: 'entire', 158: 'conduct', 159: 'fuel', 160: 'fee', 161: 'need', 162: 'planning', 163: 'teams', 164: 'due', 165: 'main', 166: 'day', 167: 'recognized', 168: 'transportation', 169: 'proposal', 170: 'execution', 171: 'issue', 172: 'advance', 173: 'supervise', 174: 'geotechnical', 175: 'furnished', 176: 'field', 177: 'listed', 178: 'energy', 179: 'defined', 180: 'completed', 181: 'offices', 182: 'providing', 183: 'form', 184: 'agreed', 185: 'buildings', 186: 'date', 187: 'whole', 188: 'english', 189: 'number', 190: 'malawi', 191: 'ii', 192: 'submitted', 193: 'quality', 194: 'expiry', 195: 'paid', 196: 'sufficient', 197: 'proper', 198: 'defect', 199: 'specialists', 200: 'contracting', 201: 'additional', 202: 'line', 203: 'plan', 204: 'items', 205: 'comments', 206: 'employer’s', 207: 'provisions', 208: 'health', 209: 'areas', 210: 'drivers', 211: 'assistants', 212: 'borne', 213: 'telephone', 214: 'registered', 215: 'tanzania', 216: 'except', 217: 'financial', 218: 'testing', 219: 'estimated', 220: 'party', 221: 'motor', 222: 'upon', 223: 'expetrs', 224: 'million', 225: 'outside', 226: 'designer', 227: 'deemed', 228: 'language', 229: 'eg', 230: 'water', 231: 'purchased', 232: 'prior', 233: 'schedule', 234: 'records', 235: 'prepared', 236: 'risks', 237: 'iii', 238: 'used', 239: 'quantities', 240: 'arrange', 241: 'head', 242: 'qualified', 243: 'behalf', 244: 'payments', 245: 'encouraged', 246: 'special', 247: 'preliminary', 248: 'firm', 249: 'building', 250: 'alignment', 251: '2', 252: 'engagement', 253: 'respective', 254: 'pending', 255: 'subconsultants', 256: 'obtaining', 257: 'consent', 258: 'cooperation', 259: 'license', 260: 'place', 261: 'compliance', 262: 'fidic', 263: 'sites', 264: 'based', 265: 'cell', 266: 'phones', 267: 'solely', 268: 'data', 269: 'performed', 270: 'components', 271: 'authorities', 272: 'resident', 273: 'commencement', 274: 'experience', 275: 'investigation', 276: 'room', 277: 'power', 278: 'public', 279: 'total', 280: 'one', 281: 'approved', 282: 'covered', 283: 'working', 284: 'status', 285: 'physical', 286: 'migration', 287: 'system', 288: 'legislation', 289: 'expenditure', 290: 'consultancy', 291: 'table', 292: 'otherwise', 293: 'specified', 294: 'receipt', 295: '7', 296: 'various', 297: 'permanent', 298: 'laws', 299: 'urban', 300: 'architectural', 301: 'kwacha', 302: 'loss', 303: 'damage', 304: 'property', 305: '24', 306: 'government', 307: 'full', 308: 'submission', 309: 'expenses', 310: 'locations', 311: 'documentation', 312: 'available', 313: 'undertake', 314: 'nonkey', 315: 'needs', 316: 'pavements', 317: 'structures', 318: 'assist', 319: 'promptly', 320: 'subject', 321: 'make', 322: 'developed', 323: 'least', 324: '10', 325: 'value', 326: 'estimates', 327: 'aspects', 328: 'require', 329: 'made', 330: 'esia', 331: 'keep', 332: '4', 333: 'km', 334: 'highway', 335: 'temporary', 336: 'workers’', 337: 'compensation', 338: 'price', 339: 'eu', 340: 'continued', 341: 'free', 342: 'standard', 343: 'handed', 344: 'employ', 345: 'secretariesinterpreters', 346: 'information', 347: 'preparing', 348: 'programme', 349: 'processing', 350: 'ie', 351: 'supplies', 352: 'parts', 353: 'scope', 354: 'input', 355: 'separately', 356: 'course', 357: 'submit', 358: 'quantity', 359: 'missions', 360: 'executed', 361: 'carried', 362: 'timely', 363: 'justice', 364: 'administration', 365: 'personmonths', 366: 'notification', 367: 'four', 368: 'sections', 369: 'community', 370: 'development', 371: 'acceptance', 372: 'notified', 373: 'performing', 374: 'responsibilities', 375: 'area', 376: 'maintain', 377: 'consultant—the', 378: 'engineer—and', 379: 'close', 380: 'location', 381: '–', 382: 'rate', 383: 'agree', 384: 'package', 385: 'sexual', 386: 'infrastructure', 387: 'budget', 388: 'inspection', 389: 'response', 390: 'consider', 391: 'guide', 392: 'issues', 393: 'action', 394: 'administrative', 395: 'mobile', 396: 'parties', 397: 'together', 398: 'seek', 399: 'relating', 400: 'new', 401: 'comply', 402: '30', 403: 'preparation', 404: 'residential', 405: '3', 406: 'subsistence', 407: 'kenya', 408: 'given', 409: 'judiciary', 410: 'languages', 411: 'risk', 412: 'members', 413: 'executing', 414: 'plans', 415: 'responsibility', 416: 'efficiency', 417: 'identified', 418: 'however', 419: 'task', 420: 'certificates', 421: 'list', 422: 'security', 423: 'policies', 424: 'funds', 425: 'give', 426: 'bills', 427: 'problems', 428: 'annual', 429: 'horizontal', 430: 'tender', 431: 'specific', 432: 'experienced', 433: 'person', 434: 'director', 435: 'authorised', 436: 'adjusted', 437: 'follows', 438: 'set', 439: 'f4', 440: 'every', 441: '18', 442: 'supe1vision', 443: 'throughout', 444: 'dlp', 445: 'addition', 446: 'ensuring', 447: 'selected', 448: 'tasks', 449: 'critical', 450: 'satisfied', 451: 'similar', 452: 'salaries', 453: 'involved', 454: 'investigations', 455: 'townmarket', 456: 'katulani', 457: 'kavisuni', 458: 'wote', 459: 'star', 460: 'rating', 461: 'irap', 462: 'protocol', 463: 'existing', 464: 'preconstruction', 465: 'significant', 466: 'changes', 467: 'inception', 468: 'inspect', 469: 'approve', 470: 'life', 471: 'accident', 472: 'permits', 473: 'hisher', 474: 'adjustment', 475: 'applies', 476: 'code', 477: 'contain', 478: 'persons', 479: 'age', 480: 'dialogue', 481: 'software', 482: 'would', 483: 'reporting', 484: 'azerbaijan', 485: 'region', 486: 'transit', 487: 'stipulated', 488: 'v', 489: 'incorporate', 490: 'visit', 491: 'proposals', 492: 'phone', 493: 'laptopsnotebooks', 494: 'boards', 495: 'internationally', 496: 'able', 497: 'space', 498: 'secretarial', 499: 'email', 500: 'position', 501: 'tendering', 502: 'certain', 503: 'apparent', 504: 'either', 505: 'liaison', 506: 'calculations', 507: 'enable', 508: '5', 509: 'train', 510: 'surveyors', 511: 'stated', 512: 'study', 513: 'mission', 514: 'organization', 515: 'monitoring', 516: 'lighting', 517: 'outlets', 518: 'serviced', 519: '12', 520: 'commence', 521: 'operated', 522: 'increasing', 523: 'ee', 524: 'handover', 525: 'effective', 526: 'securities', 527: 'square', 528: 'located', 529: 'soil', 530: 'reputable', 531: 'conform', 532: 'obligations', 533: 'details', 534: 'f5', 535: 'overtime', 536: 'sick', 537: 'vacation', 538: 'benefit', 539: 'workers', 540: 'example', 541: 'gender', 542: 'political', 543: 'along', 544: 'protection', 545: 'guard', 546: 'eur', 547: 'unchanged', 548: 'breakdown', 549: 'transferred', 550: 'translation', 551: 'calendar', 552: '15', 553: 'role', 554: 'implementing', 555: 'requires', 556: 'expressly', 557: 'writing', 558: '28', 559: '14', 560: 'therefore', 561: 'diem', 562: 'associated', 563: 'best', 564: 'mobilization', 565: 'resources', 566: 'direct', 567: 'type', 568: 'type2', 569: 'discuss', 570: 'regular', 571: 'minutes', 572: 'receive', 573: 'said', 574: 'reasonably', 575: 'payable', 576: 'united', 577: 'republic', 578: 'reasonable', 579: 'approximately', 580: 'beneficiary', 581: 'refugees', 582: 'consist', 583: 'propose', 584: '70', 585: 'contractor´s', 586: '110', 587: 'ceiling', 588: 'fittings', 589: 'ground', 590: 'connection', 591: '36', 592: 'engineer’s', 593: 'three', 594: 'exclusive', 595: 'reimbursable', 596: 'sum', 597: 'covering', 598: 'daily', 599: 'consideration', 600: 'successful', 601: 'delays', 602: 'qualification', 603: 'consultant‘s', 604: 'functioning', 605: 'measurement', 606: 'affected', 607: 'ministry', 608: 'representative', 609: 'amendments', 610: 'thereto', 611: 'weeks', 612: 'sewage', 613: 'disposal', 614: 'shown', 615: 'air', 616: 'assurance', 617: 'procedures', 618: 'assisting', 619: 'criteria', 620: 'maps', 621: 'operation', 622: 'plates', 623: 'tires', 624: 'steering', 625: 'committee', 626: 'assistance', 627: 'ebrd', 628: 'projects', 629: 'according', 630: 'measures', 631: 'certificate', 632: 'account', 633: 'exercise', 634: 'recommend', 635: 'verification', 636: 'dates', 637: 'mobilisation', 638: 'updated', 639: 'instructions', 640: 'secure', 641: 'computer', 642: 'training', 643: 'kshs', 644: 'guarantee', 645: 'change', 646: 'esmp', 647: '5000000', 648: 'requested', 649: 'computers', 650: 'copy', 651: 'ministries', 652: 'departments', 653: 'technicians', 654: 'last', 655: 'reimbursed', 656: 'accidentincident', 657: 'facilitate', 658: 'draft', 659: 'traffic', 660: 'arrangements', 661: 'operating', 662: 'structural', 663: 'complete', 664: 'member', 665: 'curves', 666: 'partner', 667: 'land', 668: 'activity', 669: 'electrical', 670: 'normal', 671: 'posting', 672: 'perform', 673: 'force', 674: 'issued', 675: 'verify', 676: 'bosnian', 677: 'herzegovina', 678: 'remedial', 679: 'run', 680: 'concurrently', 681: 'b61', 682: 'facility', 683: 'hand', 684: 'furthermore', 685: 'consultation', 686: 'nomination', 687: 'suitably', 688: 'act', 689: '“engineer”', 690: 'delegation', 691: 'euros', 692: 'forth', 693: 'forms', 694: 'f3', 695: 'ijcs', 696: 'takingover', 697: 'cettificates', 698: 'pool', 699: 'expatriate', 700: 'arising', 701: 'disciplines', 702: 'hydrology', 703: 'chosen', 704: 'mobilize', 705: 'start', 706: 'first', 707: 'reach', 708: 'favourable', 709: 'economic', 710: 'parameters', 711: 'norms', 712: 'ten', 713: 'experiences', 714: 'industry', 715: 'demonstrated', 716: 'capabilities', 717: 'undertaking', 718: 'nature', 719: 'volume', 720: 'baseline', 721: 'reviewing', 722: 'project’s', 723: 'identify', 724: 'amendment', 725: 'commences', 726: 'inform', 727: 'decision', 728: 'whether', 729: 'reviewed', 730: 'designed', 731: 'reflected', 732: 'driver', 733: 'delivered', 734: 'replenished', 735: 'consumable', 736: 'lot', 737: '35', 738: '66', 739: 'expatriates', 740: 'statutory', 741: 'bodies', 742: 'statement', 743: 'term', 744: '“child”', 745: '“children”', 746: 'means', 747: 'equivalent', 748: 'enhance', 749: 'joint', 750: 'interest', 751: 'complement', 752: 'accession', 753: 'negotiations', 754: 'case', 755: 'proprietary', 756: 'certified', 757: 'record', 758: 'systems', 759: 'financiers', 760: 'among', 761: 'others', 762: 'tbilisibakurtsikelagodekhi', 763: 'border', 764: 'connects', 765: 'tbilisi', 766: 'kakheti', 767: 'corridor', 768: 'northwest', 769: 'leader', 770: 'appointed', 771: 'perfonn', 772: 'attributed', 773: 'governed', 774: 'notes', 775: 'annex', 776: 'latest', 777: 'techniques', 778: 'technological', 779: 'developments', 780: 'especially', 781: 'climate', 782: 'resilience', 783: 'advised', 784: 'examine', 785: 'obtain', 786: 'visiting', 787: 'bore', 788: 'monthly', 789: 'consists', 790: 'types', 791: 'interventions', 792: 'refurbishment', 793: 'removal', 794: 'centres', 795: 'awarded', 796: 'duly', 797: 'competently', 798: 'assigned', 799: 'photocopiers', 800: 'managerchief', 801: 'lilongwe', 802: 'director’s', 803: 'overheads', 804: 'modify', 805: 'become', 806: 'modification', 807: 'instruction', 808: 'construction’s', 809: 'heshe', 810: 'actual', 811: 'preferably15', 812: 'preferably', 813: 'bridge', 814: 'engage', 815: 'graduates', 816: 'architects', 817: 'boost', 818: 'clause', 819: '26', 820: 'officeresidential', 821: 'executive', 822: 'g41', 823: 'rulebook', 824: 'continuous', 825: 'conference', 826: 'kitchen', 827: 'vision', 828: 'accessible', 829: 'effectively', 830: 'efficiently', 831: 'minimal', 832: 'mentioned', 833: 'staffthe', 834: 'numbers', 835: '42', 836: 'anticipated', 837: 'durations', 838: 'plus', 839: 'twelve', 840: 'understanding', 841: 'simultaneously', 842: 'treaty', 843: 'introducing', 844: 'reduction', 845: 'goal', 846: 'priorities', 847: 'operational', 848: 'satisfactory', 849: 'rectification', 850: 'recruit', 851: 'centre', 852: 'complementing', 853: 'conformity', 854: 'retention', 855: 'money', 856: 'formats', 857: 'track', 858: 'validity', 859: '783562', 860: 'population', 861: 'around', 862: '80', 863: 'acquirerentleasebuy', 864: 'satellite', 865: 'kakarbhitta', 866: 'laukahi', 867: 'apparatus', 868: 'laboratories', 869: 'staffs', 870: 'locally', 871: 'tests', 872: 'airconditioned', 873: '25', 874: 'm2', 875: 'liabilities', 876: 'contact', 877: 'revenue', 878: 'rental', 879: 'calculated', 880: 'entered', 881: 'nondiscrimination', 882: 'dealing', 883: 'vulnerable', 884: 'disadvantaged', 885: 'groups', 886: 'subcontractors', 887: 'family', 888: 'ethnicity', 889: 'race', 890: 'religion', 891: 'marital', 892: 'disability', 893: 'mental', 894: 'orientation', 895: 'identity', 896: 'conviction', 897: 'civic', 898: 'flows', 899: 'towards', 900: 'increase', 901: 'coming', 902: 'membership', 903: 'earthwork', 904: 'improvement', 905: 'lifting', 906: 'terrain', 907: 'level', 908: 'flood', 909: 'scada', 910: 'odor', 911: 'house', 912: 'workshop', 913: 'onoffsite', 914: 'internal', 915: 'platform', 916: 'fences', 917: 'landscape', 918: 'interruptions', 919: 'weather', 920: 'manmonths', 921: 'estimation', 922: 'incidental', 923: '10000000', 924: 'fuelled', 925: 'safeguard', 926: 'supportingassisting', 927: 'clearances', 928: 'overall', 929: 'frame', 930: '315', 931: '18months', 932: '12months', 933: 'starting', 934: 'coordination', 935: 'charges', 936: 'crucial', 937: 'court', 938: 'appoint', 939: 'coordinator', 940: 'guidance', 941: 'cvs', 942: 'evaluated', 943: 'taxi', 944: 'fares', 945: 'managercre', 946: 'engaging', 947: 'practices', 948: 'conceptual', 949: 'district', 950: 'councils', 951: 'presented', 952: 'discussed', 953: 'demonstrate', 954: 'equal', 955: 'opportunities', 956: 'human', 957: 'counhy', 958: 'year', 959: '2014', 960: 'instrument', 961: 'preaccession', 962: 'aims', 963: 'improving', 964: 'infrastructures', 965: 'foreigners', 966: 'euturkey', 967: 'readmission', 968: 'agreement', 969: 'lines', 970: 'counterpart', 971: 'nominated', 972: 'himher', 973: 'integrated', 974: 'attend', 975: 'investment', 976: 'people', 977: 'circulate', 978: 'followup', 979: 'actions', 980: 'board', 981: 'copies', 982: 'asbuilt', 983: 'requirec199', 984: 'motorway', 985: 'medakovo', 986: 'ozimica', 987: 'metres', 988: 'remains', 989: 'notable', 990: 'destination', 991: 'inegular', 992: 'high', 993: 'limited', 994: 'deployed', 995: 'involvement', 996: 'simulation', 997: 'model', 998: 'rukwa', 999: 'campus', 1000: 'subprojects', 1001: 'heat', 1002: 'substation', 1003: 'improvements', 1004: 'lampsluminaires', 1005: 'small', 1006: 'pvsolar', 1007: 'heaters', 1008: 'basic', 1009: 'met', 1010: 'deem', 1011: 'fits', 1012: '50', 1013: 'iv', 1014: 'indemnity', 1015: 'particular', 1016: 'interpreting', 1017: 'concentrate', 1018: 'primary', 1019: 'fifted', 1020: 'light', 1021: 'fans', 1022: 'regulators', 1023: 'electric', 1024: '5a', 1025: 'inclusive', 1026: '62', 1027: 'dnp', 1028: 'commencing', 1029: 'tentatively', 1030: 'q2', 1031: '2019', 1032: 'witha', 1033: 'brand', 1034: '4wheel', 1035: 'drive', 1036: 'suvs', 1037: 'purchase', 1038: 'considered', 1039: 'category', 1040: 'type1', 1041: 'rented', 1042: 'flatrate', 1043: 'maximum', 1044: 'meals', 1045: 'tips', 1046: 'airport', 1047: 'liable', 1048: 'vat', 1049: 'tax', 1050: 'duty', 1051: 'exemption', 1052: 'taken', 1053: 'descriptions', 1054: 'contents', 1055: 'pillars', 1056: 'leading', 1057: 'agent', 1058: 'result', 1059: 'poor', 1060: 'disadvantageous', 1061: 'excluding', 1062: 'contingency', 1063: 'supplied', 1064: 'produced', 1065: 'georgian', 1066: 'comprise', 1067: 'procedural', 1068: 'overrun', 1069: 'broadly', 1070: 'describe', 1071: 'compositionl', 1072: 'tentative', 1073: 'kenha', 1074: 'sample', 1075: 'setting', 1076: 'quarry', 1077: 'accepted', 1078: 'furiture', 1079: 'usable', 1080: 'interactions', 1081: 'communityies', 1082: 'ies', 1083: 'convey', 1084: 'attitude', 1085: 'culture', 1086: 'traditions', 1087: 'representatives', 1088: 'interior', 1089: 'directorate', 1090: 'cfcu', 1091: 'conscientiously', 1092: 'fulfil', 1093: 'highest', 1094: 'engineer‘s', 1095: 'far', 1096: 'possible', 1097: 'allowed', 1098: 'effectiveness', 1099: 'manual', 1100: 'rdmrdi', 1101: 'telephones', 1102: 'topographical', 1103: 'goods', 1104: 'ln', 1105: 'circumstances', 1106: 'makes', 1107: 'connections', 1108: 'impracticabte', 1109: 'operate', 1110: 'generators', 1111: 'pumps', 1112: 'wells', 1113: 'storage', 1114: 'tanks', 1115: 'deliveries', 1116: 'potable', 1117: 'ensured', 1118: 'scales', 1119: '1100', 1120: '150', 1121: '120', 1122: 'arises', 1123: 'estimating', 1124: 'purposes', 1125: 'individual', 1126: 'visits', 1127: 'global', 1128: 'enter', 1129: 'personmonth', 1130: 'roundtrip', 1131: 'ticket', 1132: 'checkreview', 1133: 'pennits', 1134: 'comment', 1135: 'accept', 1136: 'establishing', 1137: 'onsite', 1138: 'laboratorybased', 1139: 'workmanship', 1140: 'sampling', 1141: 'methods', 1142: 'hydrological', 1143: 'studies', 1144: 'drainage', 1145: 'lies', 1146: 'employing', 1147: 'relocation', 1148: 'repatriation', 1149: 'base', 1150: 'operations', 1151: 'demobilization', 1152: 'expatriation', 1153: 'medical', 1154: 'employment', 1155: 'benefits', 1156: 'accorded', 1157: 'expetis', 1158: 'bear', 1159: 'zenica', 1160: 'cantonal', 1161: 'hospital', 1162: 'broader', 1163: 'initiative', 1164: 'promote', 1165: 'financing', 1166: 'principles', 1167: 'effects', 1168: 'savings', 1169: 'achieved', 1170: 'adherence', 1171: 'esmps', 1172: 'unprecedented', 1173: 'humanitarian', 1174: 'aid', 1175: 'suppmt', 1176: 'hold', 1177: 'certifications', 1178: 'orand', 1179: 'licenses', 1180: 'profession', 1181: 'adjustments', 1182: 'designdrawingif', 1183: 'requirementcondition', 1184: '500000', 1185: 'cannot', 1186: 'decreased', 1187: 'increased', 1188: 'page', 1189: 'signature', 1190: 'permit', 1191: 'entryexit', 1192: 'visas', 1193: 'diaries', 1194: 'correspondence', 1195: 'test', 1196: 'pertaining', 1197: 'observance', 1198: 'turkish', 1199: 'deploy', 1200: 'graduate', 1201: 'registration', 1202: 'desks', 1203: 'dedicated', 1204: 'softwares', 1205: 'trainees', 1206: 'bidders', 1207: 'lump', 1208: '250000000', 1209: '60', 1210: 'sign', 1211: 'described', 1212: 'calls', 1213: 'es', 1214: 'impacts', 1215: 'advise', 1216: 'implications', 1217: 'consentpermits', 1218: 'camp', 1219: 'establishments', 1220: 'printers', 1221: 'a3', 1222: 'scanner', 1223: 'copier', 1224: 'conditioning', 1225: 'hired', 1226: 'referred', 1227: 'manager', 1228: 'impact', 1229: 'assessment', 1230: 'regulations', 1231: 'sitespecific', 1232: 'structuralcivil', 1233: 'surveying', 1234: 'arranging', 1235: 'coordinating', 1236: 'serve', 1237: 'secretary', 1238: 'factored', 1239: 'covers', 1240: 'auditor', 1241: 'charged', 1242: 'verifying', 1243: 'proceed', 1244: 'prefinancing', 1245: 'instalments', 1246: 'interim', 1247: '58', 1248: 'includes', 1249: 'month', 1250: 'precommencement', 1251: 'closing', 1252: 'closeout', 1253: 'major', 1254: 'giving', 1255: 'solution', 1256: 'chapter', 1257: 'regarding', 1258: 'organisation', 1259: 'staffing', 1260: 'tech4', 1261: '“description', 1262: 'approach', 1263: 'methodology', 1264: 'responding', 1265: 'reference”', 1266: 'intends', 1267: 'assistant', 1268: 'secretaries', 1269: 'interpreters', 1270: 'clear', 1271: 'designation', 1272: 'roles', 1273: 'managed', 1274: 'daytoday', 1275: 'unit', 1276: '“piu”', 1277: 'already', 1278: 'established', 1279: 'inspections', 1280: 'overnight', 1281: 'stays', 1282: 'lodges', 1283: 'hotels', 1284: 'abovementioned', 1285: 'notify', 1286: 'worksite', 1287: 'accidentsincident', 1288: 'likely', 1289: 'adverse', 1290: 'effect', 1291: 'environment', 1292: 'communities', 1293: 'inter', 1294: 'alia', 1295: 'largescale', 1296: 'accidental', 1297: 'spills', 1298: 'polluting', 1299: 'hazardous', 1300: 'accidents', 1301: 'exploitation', 1302: 'abuse', 1303: 'harassment', 1304: 'seash', 1305: 'incidentsaccidents', 1306: 'immediate', 1307: 'indepth', 1308: 'factfinding', 1309: 'cooperate', 1310: 'corrective', 1311: 'attach', 1312: 'practical', 1313: 'printer', 1314: 'photocopying', 1315: 'machine', 1316: 'projector', 1317: 'fax', 1318: 'modem', 1319: 'stationery', 1320: '740', 1321: '442', 1322: '298', 1323: 'foreign', 1324: 'policy', 1325: 'counterterrorism', 1326: 'serviceskshs', 1327: 'check', 1328: 'bonds', 1329: 'guarantees', 1330: 'forwarding', 1331: 'sense', 1332: 'consult', 1333: 'adequately', 1334: 'supported', 1335: 'approving', 1336: 'private', 1337: 'haul', 1338: 'routes', 1339: 'reinstatement', 1340: 'borrow', 1341: 'stockpile', 1342: 'mixing', 1343: 'percentage', 1344: 'respondents', 1345: 'target', 1346: 'calculate', 1347: 'income', 1348: 'restoration', 1349: 'resettlement', 1350: 'designated', 1351: 'revert', 1352: 'officially', 1353: 'good', 1354: 'soon', 1355: 'longer', 1356: 'compared', 1357: 'original', 1358: 'percent', 1359: 'briefs', 1360: 'meeting', 1361: 'conducted', 1362: 'cause', 1363: 'causing', 1364: 'correct', 1365: 'housing', 1366: 'supervisory', 1367: 'drawing', 1368: 'utilities', 1369: 'consumables', 1370: 'hours', 1371: 'qualifications', 1372: 'recommendations', 1373: 'involves', 1374: 'conducting', 1375: 'evaluate', 1376: 'institutional', 1377: 'state', 1378: 'stakeholders', 1379: 'consistent', 1380: 'pre', 1381: 'built', 1382: 'commissioning', 1383: 'manuals', 1384: 'handing', 1385: 'weeks’', 1386: 'outcome', 1387: 'bill', 1388: 'supportive', 1389: 'suitable', 1390: 'procurement', 1391: 'rules', 1392: 'implemented', 1393: 'red', 1394: 'book', 1395: 'bhs', 1396: 'coincide', 1397: 'recess', 1398: 'granted', 1399: 'closedown', 1400: 'equally', 1401: 'stand', 1402: 'fluent', 1403: 'closely', 1404: 'kenha‘s', 1405: 'corrections', 1406: 'via', 1407: 'englishturkish', 1408: 'interlocutors', 1409: 'barriers', 1410: 'addressed', 1411: 'intention', 1412: 'widen', 1413: 'prism', 1414: 'extending', 1415: 'fill', 1416: 'edge', 1417: '3m', 1418: '4m', 1419: 'redesign', 1420: 'confidential', 1421: 'apply', 1422: 'bank', 1423: 'create', 1424: 'library', 1425: 'papers', 1426: 'pictures', 1427: 'material', 1428: 'created', 1429: 'pursuant', 1430: 'decree', 1431: 'arrangement', 1432: 'obligatory', 1433: 'participants', 1434: '„official', 1435: 'gazette', 1436: 'federation', 1437: 'bih“', 1438: '4809', 1439: '7509', 1440: 'legal', 1441: 'entity', 1442: 'possessing', 1443: 'federal', 1444: 'illustration', 1445: 'ability', 1446: 'solutions', 1447: 'rehabilitation', 1448: 'vital', 1449: 'standby', 1450: 'generator', 1451: 'capacity', 1452: 'load', 1453: 'shading', 1454: 'failure', 1455: 'delegated', 1456: 'call', 1457: 'without', 1458: 'necessarily', 1459: 'strictly', 1460: 'restricted', 1461: 'fueled', 1462: 'insured', 1463: 'demobilisation', 1464: 'undertaken', 1465: 'collect', 1466: 'extracts', 1467: 'competent', 1468: 'institutions', 1469: 'instruments', 1470: 'moldova', 1471: 'locate', 1472: 'confirm', 1473: 'beacons', 1474: 'route', 1475: 'allow', 1476: 'manpower', 1477: 'miscellaneous', 1478: 'carrying', 1479: 'excessively', 1480: 'long', 1481: 'straights', 1482: 'balanced', 1483: 'vertical', 1484: 'pmticular', 1485: 'restrictions', 1486: 'subclause', 1487: '31', 1488: 'premises', 1489: 'vicinity', 1490: 'hardware', 1491: 'deliver', 1492: 'profiles', 1493: 'certify', 1494: 'eliminated', 1495: 'bridges', 1496: 'serving', 1497: 'reinstated', 1498: 'better', 1499: 'repotts', 1500: 'infol1llation', 1501: 'next', 1502: 'encountered', 1503: 'rectifications', 1504: 'imperfections', 1505: 'faults', 1506: 'proactively', 1507: 'continuously', 1508: 'manage', 1509: 'reduceeliminate', 1510: 'hazardsrisks', 1511: 'plumbing', 1512: 'firefighting', 1513: 'ict', 1514: 'acquaint', 1515: 'advice', 1516: 'enhancement', 1517: 'methodologies', 1518: 'green', 1519: 'chaired', 1520: 'pbm', 1521: 'logistics', 1522: 'communications', 1523: 'tl', 1524: 'highvisibility', 1525: 'vests', 1526: 'helmets', 1527: 'boots', 1528: 'staffmonths', 1529: '6260', 1530: 'thirtysix', 1531: 'wikiliyekatulani', 1532: 'agency', 1533: 'national', 1534: 'highways', 1535: 'render', 1536: 'modifications', 1537: 'assuming', 1538: 'care', 1539: 'protect', 1540: 'interests', 1541: 'conflict', 1542: 'constructed', 1543: 'orderly', 1544: 'manner', 1545: 'respecting', 1546: '000', 1547: 'gel', 1548: 'unless', 1549: 'hard', 1550: 'electronically', 1551: 'foreseen', 1552: '“as', 1553: 'built”', 1554: 'certifying', 1555: 'taking', 1556: 'matters', 1557: 'agencies', 1558: 'liaise', 1559: 'purpose', 1560: 'determine', 1561: 'shortterm', 1562: '‘asbuilt', 1563: 'drawings’', 1564: 'furnish', 1565: 'bosnia', 1566: 'wireless', 1567: 'internet', 1568: 'transmission', 1569: 'bring', 1570: 'second', 1571: 'issuance', 1572: 'informationclarification', 1573: 'earmarked', 1574: 'mbeya', 1575: 'university', 1576: 'science', 1577: 'technology'}\n"
          ]
        }
      ]
    },
    {
      "cell_type": "code",
      "source": [
        "# Modeling\n",
        "from tensorflow.keras.models import Sequential\n",
        "from tensorflow.keras.layers import LSTM, GRU, Dense, Embedding, Dropout, GlobalAveragePooling1D, Flatten, SpatialDropout1D, Bidirectional"
      ],
      "metadata": {
        "id": "XlLxM4D9dP43"
      },
      "execution_count": null,
      "outputs": []
    },
    {
      "cell_type": "code",
      "source": [
        "# LSTM Model\n",
        "from keras.regularizers import l2\n",
        "# Define Parameter\n",
        "n_lstm = 64\n",
        "drop_lstm = 0.2\n",
        "reg_lambda = 0.01  # regularization factor\n",
        "\n",
        "# Define LSTM Model\n",
        "model_LSTM = Sequential()\n",
        "model_LSTM.add(Embedding(input_dim=vocab_size,\n",
        "                         output_dim=100,\n",
        "                         input_length=max_length,\n",
        "                         weights=[embedding_matrix],\n",
        "                         trainable=True))\n",
        "model_LSTM.add(SpatialDropout1D(drop_lstm))\n",
        "model_LSTM.add(LSTM(n_lstm, return_sequences=False, kernel_regularizer=l2(reg_lambda)))  # Added regularization here\n",
        "model_LSTM.add(Dropout(drop_lstm))\n",
        "model_LSTM.add(layers.Dense(1, activation=\"sigmoid\", kernel_regularizer=l2(reg_lambda)))  # Added regularization here\n"
      ],
      "metadata": {
        "id": "k_tWxCVNdRAv"
      },
      "execution_count": null,
      "outputs": []
    },
    {
      "cell_type": "code",
      "source": [
        "model_LSTM.summary()"
      ],
      "metadata": {
        "id": "kdM4MyHqdSXP"
      },
      "execution_count": null,
      "outputs": []
    },
    {
      "cell_type": "code",
      "source": [
        "model_LSTM.compile(loss='binary_crossentropy',\n",
        "                   optimizer=keras.optimizers.Adam(learning_rate=0.001),\n",
        "                   metrics=['accuracy'])"
      ],
      "metadata": {
        "id": "v0clXHHNdT-f"
      },
      "execution_count": null,
      "outputs": []
    },
    {
      "cell_type": "code",
      "source": [
        "from tensorflow.keras.callbacks import EarlyStopping\n",
        "num_epochs_LSTM=10\n",
        "early_stop = EarlyStopping(monitor='val_loss', patience=4)\n",
        "history_LSTM = model_LSTM.fit(train_padded,\n",
        "                              train_labels,\n",
        "                              epochs=num_epochs_LSTM,\n",
        "                              validation_data=(val_padded, val_labels),\n",
        "                              callbacks=[early_stop],\n",
        "                              verbose=2)"
      ],
      "metadata": {
        "colab": {
          "base_uri": "https://localhost:8080/"
        },
        "id": "xuJodUmadVFX",
        "outputId": "9e180e51-3d48-42ab-be53-69807aaaeb8a"
      },
      "execution_count": null,
      "outputs": [
        {
          "output_type": "stream",
          "name": "stdout",
          "text": [
            "Epoch 1/10\n",
            "10/10 - 7s - loss: 2.0174 - accuracy: 0.4796 - val_loss: 1.8507 - val_accuracy: 0.5946 - 7s/epoch - 738ms/step\n",
            "Epoch 2/10\n",
            "10/10 - 1s - loss: 1.7397 - accuracy: 0.5918 - val_loss: 1.6054 - val_accuracy: 0.5946 - 1s/epoch - 145ms/step\n",
            "Epoch 3/10\n",
            "10/10 - 1s - loss: 1.5047 - accuracy: 0.6156 - val_loss: 1.3835 - val_accuracy: 0.6081 - 960ms/epoch - 96ms/step\n",
            "Epoch 4/10\n",
            "10/10 - 1s - loss: 1.2285 - accuracy: 0.7619 - val_loss: 0.9979 - val_accuracy: 0.8649 - 1s/epoch - 123ms/step\n",
            "Epoch 5/10\n",
            "10/10 - 1s - loss: 1.0755 - accuracy: 0.7857 - val_loss: 1.0612 - val_accuracy: 0.7432 - 1s/epoch - 110ms/step\n",
            "Epoch 6/10\n",
            "10/10 - 1s - loss: 0.8792 - accuracy: 0.8571 - val_loss: 0.9251 - val_accuracy: 0.7973 - 931ms/epoch - 93ms/step\n",
            "Epoch 7/10\n",
            "10/10 - 1s - loss: 0.9203 - accuracy: 0.7891 - val_loss: 0.9375 - val_accuracy: 0.7297 - 1s/epoch - 100ms/step\n",
            "Epoch 8/10\n",
            "10/10 - 1s - loss: 0.8405 - accuracy: 0.8129 - val_loss: 0.6978 - val_accuracy: 0.8919 - 1s/epoch - 104ms/step\n",
            "Epoch 9/10\n",
            "10/10 - 1s - loss: 0.7066 - accuracy: 0.8810 - val_loss: 0.6400 - val_accuracy: 0.9054 - 1s/epoch - 106ms/step\n",
            "Epoch 10/10\n",
            "10/10 - 1s - loss: 0.6361 - accuracy: 0.8912 - val_loss: 0.5483 - val_accuracy: 0.9189 - 1s/epoch - 136ms/step\n"
          ]
        }
      ]
    },
    {
      "cell_type": "code",
      "source": [
        "plt.plot(history_LSTM.history[\"accuracy\"])\n",
        "plt.plot(history_LSTM.history[\"val_accuracy\"])\n",
        "\n",
        "plt.title('Model accuracy (LSTM)')\n",
        "plt.ylabel('Accuracy')\n",
        "plt.xlabel('Epoch')\n",
        "plt.legend(['Train', 'Val'], loc='upper left')\n",
        "plt.ylim([0, 1])  # Set the y-axis limits\n",
        "\n",
        "plt.show()"
      ],
      "metadata": {
        "colab": {
          "base_uri": "https://localhost:8080/",
          "height": 472
        },
        "id": "vuXpDO8TdW0n",
        "outputId": "7a7b98b8-5a52-403e-da43-008a74dbee2d"
      },
      "execution_count": null,
      "outputs": [
        {
          "output_type": "display_data",
          "data": {
            "text/plain": [
              "<Figure size 640x480 with 1 Axes>"
            ],
            "image/png": "[encoded data removed]"
          },
          "metadata": {}
        }
      ]
    },
    {
      "cell_type": "code",
      "source": [
        "from sklearn.metrics import accuracy_score, precision_score, f1_score, confusion_matrix\n",
        "import matplotlib.pyplot as plt\n",
        "import seaborn as sns\n",
        "\n",
        "# Make predictions on the validation set\n",
        "val_predictions = model_LSTM.predict(val_padded)\n",
        "val_predictions = [1 if p > 0.5 else 0 for p in val_predictions]\n",
        "\n",
        "# Calculate Accuracy\n",
        "accuracy = accuracy_score(val_labels, val_predictions)\n",
        "\n",
        "# Calculate Precision\n",
        "precision = precision_score(val_labels, val_predictions)\n",
        "\n",
        "# Calculate F1 Score\n",
        "f1 = f1_score(val_labels, val_predictions)\n",
        "\n",
        "# Generate Confusion Matrix\n",
        "conf_matrix = confusion_matrix(val_labels, val_predictions)\n",
        "\n",
        "print(f\"Validation Accuracy: {accuracy}\")\n",
        "print(f\"Validation Precision: {precision}\")\n",
        "print(f\"Validation F1 Score: {f1}\")\n",
        "print(f\"Confusion Matrix: \\n{conf_matrix}\")\n",
        "\n",
        "# Plotting the Confusion Matrix\n",
        "plt.figure(figsize=(8, 6))\n",
        "sns.heatmap(conf_matrix, annot=True, fmt='g', cmap='Blues',\n",
        "            xticklabels=['Predicted Negative', 'Predicted Positive'],\n",
        "            yticklabels=['Actual Negative', 'Actual Positive'])\n",
        "plt.xlabel('Predicted')\n",
        "plt.ylabel('Actual')\n",
        "plt.title('Confusion Matrix')\n",
        "plt.show()\n"
      ],
      "metadata": {
        "colab": {
          "base_uri": "https://localhost:8080/",
          "height": 686
        },
        "id": "aq0cOwpvdX1X",
        "outputId": "7862d494-affc-4141-ae16-5421b7f6baa9"
      },
      "execution_count": null,
      "outputs": [
        {
          "output_type": "stream",
          "name": "stdout",
          "text": [
            "3/3 [==============================] - 2s 15ms/step\n",
            "Validation Accuracy: 0.918918918918919\n",
            "Validation Precision: 0.8888888888888888\n",
            "Validation F1 Score: 0.9142857142857143\n",
            "Confusion Matrix: \n",
            "[[36  4]\n",
            " [ 2 32]]\n"
          ]
        },
        {
          "output_type": "display_data",
          "data": {
            "text/plain": [
              "<Figure size 800x600 with 2 Axes>"
            ],
            "image/png": "[encoded data removed]"
          },
          "metadata": {}
        }
      ]
    }
  ]
}